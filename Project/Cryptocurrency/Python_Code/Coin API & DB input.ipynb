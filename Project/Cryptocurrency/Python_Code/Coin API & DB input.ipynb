{
 "cells": [
  {
   "cell_type": "code",
   "execution_count": 1,
   "metadata": {},
   "outputs": [
    {
     "data": {
      "text/plain": [
       "True"
      ]
     },
     "execution_count": 1,
     "metadata": {},
     "output_type": "execute_result"
    }
   ],
   "source": [
    "import csv\n",
    "import mysql.connector\n",
    "import datetime  \n",
    "import json\n",
    "import urllib.request\n",
    "from urllib.request import Request, urlopen\n",
    "\n",
    "today = datetime.date.today()\n",
    "day = 10 ## 몇일 전 까지 넣을 것인가. max 가 2000일 이라고 하네요. (day+1) 만큼 데이터가 들어와져요.\n",
    "\n",
    "## 'fromCoin - to' 정보를 보여줍니당. 아래 예시에서는 비트코인과 US달러에요. \n",
    "fromCoin = 'BTC'\n",
    "to = 'USD'\n",
    "\n",
    "\n",
    "urlTicker = urllib.request.urlopen('https://min-api.cryptocompare.com/data/histoday?fsym=' + fromCoin \n",
    "                                   + '&tsym=' + to + '&limit=' + str(day) + '&aggregate=1&e=CCCAGG')\n",
    "readTicker = urlTicker.read()\n",
    "jsonTicker = json.loads(readTicker.decode())\n",
    "bitcoinData = jsonTicker['Data']\n",
    "\n",
    "mydb = mysql.connector.connect(host='localhost',\n",
    "    user='root',\n",
    "    passwd='root', database='Coin') ## 병규님 쓰시는 DB에 맞게 조정하면 되실 듯 합니당.\n",
    "\n",
    "\n",
    "cursor = mydb.cursor()\n",
    "\n",
    "for data in bitcoinData:\n",
    "    days = (today - datetime.timedelta(day)).strftime(\"%Y/%m/%d\")\n",
    "    bitdata = [days, data['open'], data['close'], data['high'], data['low'], data['volumefrom'], data['volumeto']]\n",
    "    cursor.execute(\"INSERT INTO bitcoin VALUES(%s, %s, %s, %s, %s, %s, %s)\", bitdata)\n",
    "    day = day - 1\n",
    " \n",
    "# close the connection to the database.\n",
    "mydb.commit()\n",
    "cursor.close()"
   ]
  },
  {
   "cell_type": "code",
   "execution_count": 1,
   "metadata": {
    "collapsed": true
   },
   "outputs": [],
   "source": [
    "import csv\n",
    "import mysql.connector\n",
    "import datetime  \n",
    "import json\n",
    "import urllib.request\n",
    "from urllib.request import Request, urlopen\n",
    "\n",
    "today = datetime.date.today()\n",
    "day = 10 ## 몇일 전 까지 넣을 것인가. max 가 2000일 이라고 하네요. (day+1) 만큼 데이터가 들어와져요.\n",
    "\n",
    "## 'fromCoin - to' 정보를 보여줍니당. 아래 예시에서는 비트코인과 US달러에요. \n",
    "fromCoin = 'BTC'\n",
    "to = 'USD'\n",
    "\n",
    "\n",
    "urlTicker = urllib.request.urlopen('https://min-api.cryptocompare.com/data/histoday?fsym=' + fromCoin \n",
    "                                   + '&tsym=' + to + '&limit=' + str(day) + '&aggregate=1&e=CCCAGG')\n",
    "readTicker = urlTicker.read()\n",
    "jsonTicker = json.loads(readTicker.decode())\n",
    "bitcoinData = jsonTicker['Data']\n"
   ]
  },
  {
   "cell_type": "code",
   "execution_count": 2,
   "metadata": {},
   "outputs": [
    {
     "data": {
      "text/plain": [
       "[{'close': 5637.26,\n",
       "  'high': 5852.78,\n",
       "  'low': 5391.97,\n",
       "  'open': 5432.62,\n",
       "  'time': 1507852800,\n",
       "  'volumefrom': 215018.92,\n",
       "  'volumeto': 1211469140.96},\n",
       " {'close': 5824.71,\n",
       "  'high': 5839.62,\n",
       "  'low': 5568.86,\n",
       "  'open': 5637.26,\n",
       "  'time': 1507939200,\n",
       "  'volumefrom': 76224.35,\n",
       "  'volumeto': 434406119.95},\n",
       " {'close': 5688.14,\n",
       "  'high': 5862.69,\n",
       "  'low': 5448.22,\n",
       "  'open': 5824.71,\n",
       "  'time': 1508025600,\n",
       "  'volumefrom': 101636.95,\n",
       "  'volumeto': 571166215.25},\n",
       " {'close': 5759.33,\n",
       "  'high': 5795.33,\n",
       "  'low': 5576.1,\n",
       "  'open': 5677.35,\n",
       "  'time': 1508112000,\n",
       "  'volumefrom': 61358.95,\n",
       "  'volumeto': 349154669.33},\n",
       " {'close': 5598.58,\n",
       "  'high': 5773.32,\n",
       "  'low': 5521.09,\n",
       "  'open': 5759.25,\n",
       "  'time': 1508198400,\n",
       "  'volumefrom': 65637.43,\n",
       "  'volumeto': 368658284.35},\n",
       " {'close': 5575.83,\n",
       "  'high': 5601.3,\n",
       "  'low': 5114.87,\n",
       "  'open': 5598.58,\n",
       "  'time': 1508284800,\n",
       "  'volumefrom': 122020.31,\n",
       "  'volumeto': 654722509.03},\n",
       " {'close': 5698.65,\n",
       "  'high': 5737.41,\n",
       "  'low': 5517.62,\n",
       "  'open': 5576.71,\n",
       "  'time': 1508371200,\n",
       "  'volumefrom': 83056.09,\n",
       "  'volumeto': 469774559.06},\n",
       " {'close': 5993.11,\n",
       "  'high': 6075.32,\n",
       "  'low': 5611.39,\n",
       "  'open': 5698.62,\n",
       "  'time': 1508457600,\n",
       "  'volumefrom': 123860.51,\n",
       "  'volumeto': 729487923.01},\n",
       " {'close': 6006.65,\n",
       "  'high': 6187.2,\n",
       "  'low': 5874.54,\n",
       "  'open': 5993.11,\n",
       "  'time': 1508544000,\n",
       "  'volumefrom': 112943.89,\n",
       "  'volumeto': 684989667.22},\n",
       " {'close': 5982.86,\n",
       "  'high': 6070.56,\n",
       "  'low': 5722.98,\n",
       "  'open': 6006.65,\n",
       "  'time': 1508630400,\n",
       "  'volumefrom': 105030.93,\n",
       "  'volumeto': 618893096.8},\n",
       " {'close': 5867.56,\n",
       "  'high': 6048.98,\n",
       "  'low': 5777.76,\n",
       "  'open': 5982.86,\n",
       "  'time': 1508716800,\n",
       "  'volumefrom': 40357.08,\n",
       "  'volumeto': 238576388.22}]"
      ]
     },
     "execution_count": 2,
     "metadata": {},
     "output_type": "execute_result"
    }
   ],
   "source": [
    "bitcoinData"
   ]
  },
  {
   "cell_type": "code",
   "execution_count": 4,
   "metadata": {},
   "outputs": [
    {
     "name": "stdout",
     "output_type": "stream",
     "text": [
      "https://min-api.cryptocompare.com/data/histoday?fsym=BTC&tsym=USD&limit=10&aggregate=1&e=CCCAGG\n"
     ]
    }
   ],
   "source": [
    "print('https://min-api.cryptocompare.com/data/histoday?fsym=' + fromCoin \n",
    "                                   + '&tsym=' + to + '&limit=' + str(day) + '&aggregate=1&e=CCCAGG')"
   ]
  },
  {
   "cell_type": "code",
   "execution_count": null,
   "metadata": {
    "collapsed": true
   },
   "outputs": [],
   "source": []
  }
 ],
 "metadata": {
  "kernelspec": {
   "display_name": "Python 3",
   "language": "python",
   "name": "python3"
  },
  "language_info": {
   "codemirror_mode": {
    "name": "ipython",
    "version": 3
   },
   "file_extension": ".py",
   "mimetype": "text/x-python",
   "name": "python",
   "nbconvert_exporter": "python",
   "pygments_lexer": "ipython3",
   "version": "3.5.3"
  }
 },
 "nbformat": 4,
 "nbformat_minor": 2
}
