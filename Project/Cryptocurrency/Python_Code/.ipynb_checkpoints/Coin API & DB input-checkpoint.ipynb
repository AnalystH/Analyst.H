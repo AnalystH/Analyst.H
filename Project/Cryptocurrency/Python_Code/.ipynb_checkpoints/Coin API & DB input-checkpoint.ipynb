{
 "cells": [
  {
   "cell_type": "code",
   "execution_count": 1,
   "metadata": {},
   "outputs": [
    {
     "data": {
      "text/plain": [
       "True"
      ]
     },
     "execution_count": 1,
     "metadata": {},
     "output_type": "execute_result"
    }
   ],
   "source": [
    "import csv\n",
    "import mysql.connector\n",
    "import datetime  \n",
    "import json\n",
    "import urllib.request\n",
    "from urllib.request import Request, urlopen\n",
    "\n",
    "today = datetime.date.today()\n",
    "day = 10 ## 몇일 전 까지 넣을 것인가. max 가 2000일 이라고 하네요. (day+1) 만큼 데이터가 들어와져요.\n",
    "\n",
    "## 'fromCoin - to' 정보를 보여줍니당. 아래 예시에서는 비트코인과 US달러에요. \n",
    "fromCoin = 'BTC'\n",
    "to = 'USD'\n",
    "\n",
    "\n",
    "urlTicker = urllib.request.urlopen('https://min-api.cryptocompare.com/data/histoday?fsym=' + fromCoin \n",
    "                                   + '&tsym=' + to + '&limit=' + str(day) + '&aggregate=1&e=CCCAGG')\n",
    "readTicker = urlTicker.read()\n",
    "jsonTicker = json.loads(readTicker.decode())\n",
    "bitcoinData = jsonTicker['Data']\n",
    "\n",
    "mydb = mysql.connector.connect(host='localhost',\n",
    "    user='root',\n",
    "    passwd='root', database='Coin') ## 병규님 쓰시는 DB에 맞게 조정하면 되실 듯 합니당.\n",
    "\n",
    "\n",
    "cursor = mydb.cursor()\n",
    "\n",
    "for data in bitcoinData:\n",
    "    days = (today - datetime.timedelta(day)).strftime(\"%Y/%m/%d\")\n",
    "    bitdata = [days, data['open'], data['close'], data['high'], data['low'], data['volumefrom'], data['volumeto']]\n",
    "    cursor.execute(\"INSERT INTO bitcoin VALUES(%s, %s, %s, %s, %s, %s, %s)\", bitdata)\n",
    "    day = day - 1\n",
    " \n",
    "# close the connection to the database.\n",
    "mydb.commit()\n",
    "cursor.close()"
   ]
  },
  {
   "cell_type": "code",
   "execution_count": null,
   "metadata": {
    "collapsed": true
   },
   "outputs": [],
   "source": []
  }
 ],
 "metadata": {
  "kernelspec": {
   "display_name": "Python 3",
   "language": "python",
   "name": "python3"
  },
  "language_info": {
   "codemirror_mode": {
    "name": "ipython",
    "version": 3
   },
   "file_extension": ".py",
   "mimetype": "text/x-python",
   "name": "python",
   "nbconvert_exporter": "python",
   "pygments_lexer": "ipython3",
   "version": "3.5.3"
  }
 },
 "nbformat": 4,
 "nbformat_minor": 2
}
